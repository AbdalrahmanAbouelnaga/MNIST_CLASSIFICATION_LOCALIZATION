{
 "cells": [
  {
   "cell_type": "code",
   "execution_count": null,
   "id": "23623d80-94f1-4a18-a21b-1f80a6eaa590",
   "metadata": {},
   "outputs": [],
   "source": [
    "import os\n",
    "os.environ['TF_GPU_ALLOCATOR'] = 'cuda_malloc_async'\n",
    "os.environ['TF_FORCE_GPU_ALLOW_GROWTH'] = 'true'\n",
    "os.environ['TF_CUDNN_USE_AUTOTUNE'] = '0'\n"
   ]
  },
  {
   "cell_type": "code",
   "execution_count": 1,
   "id": "256fec1f-1cfc-4527-8383-de390eeea2d1",
   "metadata": {},
   "outputs": [
    {
     "name": "stderr",
     "output_type": "stream",
     "text": [
      "2024-07-05 21:55:03.044791: I tensorflow/core/util/port.cc:113] oneDNN custom operations are on. You may see slightly different numerical results due to floating-point round-off errors from different computation orders. To turn them off, set the environment variable `TF_ENABLE_ONEDNN_OPTS=0`.\n",
      "2024-07-05 21:55:03.187522: E external/local_xla/xla/stream_executor/cuda/cuda_fft.cc:479] Unable to register cuFFT factory: Attempting to register factory for plugin cuFFT when one has already been registered\n",
      "2024-07-05 21:55:03.255932: E external/local_xla/xla/stream_executor/cuda/cuda_dnn.cc:10575] Unable to register cuDNN factory: Attempting to register factory for plugin cuDNN when one has already been registered\n",
      "2024-07-05 21:55:03.256301: E external/local_xla/xla/stream_executor/cuda/cuda_blas.cc:1442] Unable to register cuBLAS factory: Attempting to register factory for plugin cuBLAS when one has already been registered\n",
      "2024-07-05 21:55:03.366346: I tensorflow/core/platform/cpu_feature_guard.cc:210] This TensorFlow binary is optimized to use available CPU instructions in performance-critical operations.\n",
      "To enable the following instructions: AVX2 AVX512F AVX512_VNNI FMA, in other operations, rebuild TensorFlow with the appropriate compiler flags.\n",
      "2024-07-05 21:55:04.227099: W tensorflow/compiler/tf2tensorrt/utils/py_utils.cc:38] TF-TRT Warning: Could not find TensorRT\n"
     ]
    }
   ],
   "source": [
    "import numpy as np\n",
    "import pandas as pd\n",
    "import matplotlib.pyplot as plt\n",
    "import seaborn as sns\n",
    "import tensorflow as tf\n",
    "from tensorflow.keras.preprocessing.image import ImageDataGenerator\n",
    "from tensorflow.keras.models import Sequential\n",
    "from tensorflow.keras.layers import Conv2D, MaxPooling2D, Flatten, Dense, Dropout, Input\n",
    "from tensorflow.keras.utils import to_categorical\n",
    "from sklearn.metrics import classification_report, confusion_matrix\n",
    "from sklearn.preprocessing import OneHotEncoder\n",
    "from tensorflow import keras\n",
    "from tensorflow.keras import layers\n",
    "from sklearn.metrics import accuracy_score\n",
    "from tensorflow.keras import mixed_precision\n",
    "import matplotlib.pyplot as plt\n",
    "from random import randrange\n",
    "import cv2"
   ]
  },
  {
   "cell_type": "code",
   "execution_count": 2,
   "id": "6b3e1db6-2560-4c2c-8718-608a1c32195f",
   "metadata": {},
   "outputs": [],
   "source": [
    "(x_train, y_train), (x_test, y_test) = keras.datasets.mnist.load_data()\n"
   ]
  },
  {
   "cell_type": "code",
   "execution_count": 3,
   "id": "02c5c4e9-c767-4f2e-b48d-6fd61981c097",
   "metadata": {},
   "outputs": [],
   "source": [
    "policy = mixed_precision.Policy('mixed_float16')\n",
    "mixed_precision.set_global_policy(policy)"
   ]
  },
  {
   "cell_type": "code",
   "execution_count": 4,
   "id": "3416cbea-c07e-43c0-861c-ec897e3268f8",
   "metadata": {},
   "outputs": [
    {
     "data": {
      "image/png": "[encoded data removed]",
      "text/plain": [
       "<Figure size 640x480 with 1 Axes>"
      ]
     },
     "metadata": {},
     "output_type": "display_data"
    },
    {
     "data": {
      "text/plain": [
       "array([5, 0, 4, ..., 5, 6, 8], dtype=uint8)"
      ]
     },
     "execution_count": 4,
     "metadata": {},
     "output_type": "execute_result"
    }
   ],
   "source": [
    "plt.imshow(x_train[10],cmap=\"gray\")\n",
    "plt.show()\n",
    "y_train"
   ]
  },
  {
   "cell_type": "code",
   "execution_count": 5,
   "id": "258abb2b-6d8d-4b12-8d8f-46a9531a667e",
   "metadata": {},
   "outputs": [],
   "source": [
    "x_train = keras.utils.normalize(x_train,axis=1)\n",
    "x_test = keras.utils.normalize(x_test,axis=1)"
   ]
  },
  {
   "cell_type": "code",
   "execution_count": 6,
   "id": "bb169129-c113-4208-a2e5-1cfc8f7568ee",
   "metadata": {},
   "outputs": [],
   "source": [
    "def resize_and_create_boundary(X,y,new_size=75,original_size=(28,28)):\n",
    "    X_new=[]\n",
    "    y_new=[]\n",
    "    for i in range(len(X)):\n",
    "      df = X\n",
    "    \n",
    "      img = np.reshape(np.array(df[i]), original_size)\n",
    "    \n",
    "    \n",
    "      new_img = np.zeros((new_size, new_size))*1\n",
    "    \n",
    "      # randomly select a bottom left corner to use for img\n",
    "      x_min, y_min = randrange(new_size - img.shape[0]), randrange(new_size - img.shape[0])\n",
    "      x_max, y_max = x_min + img.shape[0], y_min + img.shape[0]\n",
    "    \n",
    "      x_center = x_min + (x_max-x_min)/2\n",
    "      y_center = y_min + (y_max-y_min)/2\n",
    "    \n",
    "    \n",
    "      new_img[x_min:x_max, y_min:y_max] = img\n",
    "      new_img = cv2.rectangle(new_img, (y_max, x_min), (y_min, x_max), 1, 1)\n",
    "      X_new.append(new_img)\n",
    "      y_new.append([y[i],y_max,x_max,y_min,x_min])\n",
    "\n",
    "    return X_new,y_new\n"
   ]
  },
  {
   "cell_type": "code",
   "execution_count": 7,
   "id": "a9ab81b6-a0b3-474a-9b9d-77bbec7bfe7f",
   "metadata": {},
   "outputs": [],
   "source": [
    "X_train_new, y_train_new = resize_and_create_boundary(x_train,y_train)"
   ]
  },
  {
   "cell_type": "code",
   "execution_count": 9,
   "id": "2c3ce15b-a87d-4628-a520-eaf87ea20f1e",
   "metadata": {},
   "outputs": [],
   "source": [
    "X_train_new = np.array(X_train_new)\n",
    "y_train_new = np.array(y_train_new).astype(\"float\")\n",
    "y_train_new[:,1:] = y_train_new[:,1:]/75.0\n"
   ]
  },
  {
   "cell_type": "code",
   "execution_count": 10,
   "id": "485c9130-75ed-4030-90d7-524807ef9568",
   "metadata": {},
   "outputs": [
    {
     "data": {
      "image/png": "[encoded data removed]",
      "text/plain": [
       "<Figure size 640x480 with 1 Axes>"
      ]
     },
     "metadata": {},
     "output_type": "display_data"
    },
    {
     "name": "stdout",
     "output_type": "stream",
     "text": [
      "1\n"
     ]
    },
    {
     "data": {
      "text/plain": [
       "1.0"
      ]
     },
     "execution_count": 10,
     "metadata": {},
     "output_type": "execute_result"
    }
   ],
   "source": [
    "i = 6\n",
    "plt.imshow(X_train_new[i], cmap=\"gray\")\n",
    "\n",
    "plt.plot(y_train_new[i][3]*75.0 + (y_train_new[i][1]*75.0-y_train_new[i][3]*75.0)/2, y_train_new[i][4]*75.0 + (y_train_new[i][2]*75.0-y_train_new[i][4]*75.0)/2, \"og\", markersize=10)\n",
    "plt.show()\n",
    "print(y_train[i])\n",
    "y_train_new[i][0]"
   ]
  },
  {
   "cell_type": "code",
   "execution_count": 11,
   "id": "c496669e-1f85-48c9-9d30-392ebdf8b155",
   "metadata": {},
   "outputs": [],
   "source": [
    "X_test_new,y_test_new = resize_and_create_boundary(x_test,y_test)"
   ]
  },
  {
   "cell_type": "code",
   "execution_count": 12,
   "id": "2731bb2d-4a37-4244-bee6-d584d84f5a28",
   "metadata": {},
   "outputs": [],
   "source": [
    "X_test_new = np.array(X_test_new)\n",
    "y_test_new = np.array(y_test_new).astype(\"float\")\n",
    "y_test_new[:,1:] = y_test_new[:,1:]/75.0\n"
   ]
  },
  {
   "cell_type": "code",
   "execution_count": 13,
   "id": "ec7ea15c-efc1-43bc-94b5-6c170d401ae0",
   "metadata": {},
   "outputs": [],
   "source": [
    "class MNIST_classify_and_localize():\n",
    "    def __init__(self,input_shape=(75,75,1)):\n",
    "        self.model_localize =Sequential([\n",
    "                    Conv2D(32, (3, 3), activation='relu', input_shape=input_shape),\n",
    "                    MaxPooling2D((2, 2)),\n",
    "                    Conv2D(64, (3, 3), activation='relu'),\n",
    "                    MaxPooling2D((2, 2)),\n",
    "                    Flatten(),\n",
    "                    Dense(128, activation='relu'),\n",
    "                    Dense(4)  # Predict 4 values: x, y, width, height\n",
    "            ])\n",
    "        self.model_classify = Sequential([\n",
    "                    Conv2D(32, (3, 3), activation='relu', input_shape=input_shape),\n",
    "                    MaxPooling2D((2, 2)),\n",
    "                    Conv2D(64, (3, 3), activation='relu'),\n",
    "            \n",
    "                    Conv2D( 64, (3,3),activation=\"relu\"),\n",
    "                    MaxPooling2D((2, 2)),\n",
    "                    Flatten(),\n",
    "                    Dense(128, activation='sigmoid'),\n",
    "                    Dense(10,activation=\"softmax\")  # Predict 4 values: x, y, width, height\n",
    "            ])\n",
    "\n",
    "\n",
    "    def compile(self,optimizer_localize='adam',\n",
    "                loss_localize='mean_squared_error',\n",
    "                metrics_localize=[\"accuracy\"],\n",
    "                optimizer_classify='adam',\n",
    "                loss_classify='categorical_crossentropy',\n",
    "                metrics_classify=[\"accuracy\"]):\n",
    "        self.model_localize.compile(optimizer=optimizer_localize, loss=loss_localize, metrics=metrics_localize)\n",
    "        self.model_classify.compile(optimizer=optimizer_classify, loss=loss_classify, metrics=metrics_classify)\n",
    "\n",
    "    def fit(self,X,y,batch_size=60,epochs=5,validation_split=0.2,encoder=OneHotEncoder(sparse_output=False)):\n",
    "        self.encoder=encoder\n",
    "        self.model_localize.fit(X, y[:,1:],batch_size=batch_size, epochs=epochs, validation_split=validation_split)\n",
    "        self.model_classify.fit(X, self.encoder.fit_transform(y[:,0].reshape(-1, 1)),batch_size=batch_size, epochs=epochs, validation_split=validation_split)\n",
    "    def predict(self,X,y):\n",
    "        self.boundary_pred = self.model_localize.predict(X)\n",
    "        self.label_pred = self.model_classify.predict(X).argmax(axis=1)\n",
    "        self.predictions = np.column_stack((self.label_pred,self.boundary_pred))\n",
    "        return self.predictions\n",
    "    def evaluate(self,X,y):\n",
    "        self.boundary_loss,self.boundary_acc = self.model_localize.evaluate(X,y[:,1:])\n",
    "        self.label_loss,self.label_acc = self.model_classify.evaluate(X,self.encoder.transform(y[:,0].reshape(-1, 1)))\n",
    "        return [self.boundary_loss,self.boundary_acc,self.label_loss,self.label_acc]\n",
    "    "
   ]
  },
  {
   "cell_type": "code",
   "execution_count": 14,
   "id": "534a6c52-0b1e-4ac1-a954-76c2ffba37bc",
   "metadata": {},
   "outputs": [
    {
     "name": "stderr",
     "output_type": "stream",
     "text": [
      "/home/naga/miniconda3/lib/python3.12/site-packages/keras/src/layers/convolutional/base_conv.py:107: UserWarning: Do not pass an `input_shape`/`input_dim` argument to a layer. When using Sequential models, prefer using an `Input(shape)` object as the first layer in the model instead.\n",
      "  super().__init__(activity_regularizer=activity_regularizer, **kwargs)\n",
      "2024-07-05 21:56:12.093871: I external/local_xla/xla/stream_executor/cuda/cuda_executor.cc:998] successful NUMA node read from SysFS had negative value (-1), but there must be at least one NUMA node, so returning NUMA node zero. See more at https://github.com/torvalds/linux/blob/v6.0/Documentation/ABI/testing/sysfs-bus-pci#L344-L355\n",
      "2024-07-05 21:56:23.522942: I external/local_xla/xla/stream_executor/cuda/cuda_executor.cc:998] successful NUMA node read from SysFS had negative value (-1), but there must be at least one NUMA node, so returning NUMA node zero. See more at https://github.com/torvalds/linux/blob/v6.0/Documentation/ABI/testing/sysfs-bus-pci#L344-L355\n",
      "2024-07-05 21:56:23.523625: I external/local_xla/xla/stream_executor/cuda/cuda_executor.cc:998] successful NUMA node read from SysFS had negative value (-1), but there must be at least one NUMA node, so returning NUMA node zero. See more at https://github.com/torvalds/linux/blob/v6.0/Documentation/ABI/testing/sysfs-bus-pci#L344-L355\n",
      "2024-07-05 21:56:23.538747: I external/local_xla/xla/stream_executor/cuda/cuda_executor.cc:998] successful NUMA node read from SysFS had negative value (-1), but there must be at least one NUMA node, so returning NUMA node zero. See more at https://github.com/torvalds/linux/blob/v6.0/Documentation/ABI/testing/sysfs-bus-pci#L344-L355\n",
      "2024-07-05 21:56:23.539107: I external/local_xla/xla/stream_executor/cuda/cuda_executor.cc:998] successful NUMA node read from SysFS had negative value (-1), but there must be at least one NUMA node, so returning NUMA node zero. See more at https://github.com/torvalds/linux/blob/v6.0/Documentation/ABI/testing/sysfs-bus-pci#L344-L355\n",
      "2024-07-05 21:56:23.539188: I external/local_xla/xla/stream_executor/cuda/cuda_executor.cc:998] successful NUMA node read from SysFS had negative value (-1), but there must be at least one NUMA node, so returning NUMA node zero. See more at https://github.com/torvalds/linux/blob/v6.0/Documentation/ABI/testing/sysfs-bus-pci#L344-L355\n",
      "2024-07-05 21:56:29.829780: I external/local_xla/xla/stream_executor/cuda/cuda_executor.cc:998] successful NUMA node read from SysFS had negative value (-1), but there must be at least one NUMA node, so returning NUMA node zero. See more at https://github.com/torvalds/linux/blob/v6.0/Documentation/ABI/testing/sysfs-bus-pci#L344-L355\n",
      "2024-07-05 21:56:29.830673: I external/local_xla/xla/stream_executor/cuda/cuda_executor.cc:998] successful NUMA node read from SysFS had negative value (-1), but there must be at least one NUMA node, so returning NUMA node zero. See more at https://github.com/torvalds/linux/blob/v6.0/Documentation/ABI/testing/sysfs-bus-pci#L344-L355\n",
      "2024-07-05 21:56:29.831502: I external/local_xla/xla/stream_executor/cuda/cuda_executor.cc:998] successful NUMA node read from SysFS had negative value (-1), but there must be at least one NUMA node, so returning NUMA node zero. See more at https://github.com/torvalds/linux/blob/v6.0/Documentation/ABI/testing/sysfs-bus-pci#L344-L355\n",
      "2024-07-05 21:56:29.831975: I tensorflow/core/common_runtime/gpu/gpu_device.cc:1928] Created device /job:localhost/replica:0/task:0/device:GPU:0 with 1980 MB memory:  -> device: 0, name: NVIDIA GeForce RTX 3050 Laptop GPU, pci bus id: 0000:01:00.0, compute capability: 8.6\n"
     ]
    }
   ],
   "source": [
    "model = MNIST_classify_and_localize()"
   ]
  },
  {
   "cell_type": "code",
   "execution_count": 15,
   "id": "af611a34-e600-4724-852b-356e404b8301",
   "metadata": {},
   "outputs": [],
   "source": [
    "model.compile()"
   ]
  },
  {
   "cell_type": "code",
   "execution_count": 16,
   "id": "0d30091a-6447-4027-9249-c4fd1d1136c9",
   "metadata": {},
   "outputs": [
    {
     "name": "stdout",
     "output_type": "stream",
     "text": [
      "Epoch 1/5\n"
     ]
    },
    {
     "name": "stderr",
     "output_type": "stream",
     "text": [
      "WARNING: All log messages before absl::InitializeLog() is called are written to STDERR\n",
      "I0000 00:00:1720205847.919959   16265 service.cc:145] XLA service 0x74bd88009d10 initialized for platform CUDA (this does not guarantee that XLA will be used). Devices:\n",
      "I0000 00:00:1720205847.921204   16265 service.cc:153]   StreamExecutor device (0): NVIDIA GeForce RTX 3050 Laptop GPU, Compute Capability 8.6\n",
      "2024-07-05 21:57:28.022564: I tensorflow/compiler/mlir/tensorflow/utils/dump_mlir_util.cc:268] disabling MLIR crash reproducer, set env var `MLIR_CRASH_REPRODUCER_DIRECTORY` to enable.\n",
      "2024-07-05 21:57:28.314596: I external/local_xla/xla/stream_executor/cuda/cuda_dnn.cc:465] Loaded cuDNN version 8902\n"
     ]
    },
    {
     "name": "stdout",
     "output_type": "stream",
     "text": [
      "\u001b[1m 32/800\u001b[0m \u001b[37m━━━━━━━━━━━━━━━━━━━━\u001b[0m \u001b[1m3s\u001b[0m 5ms/step - accuracy: 0.8269 - loss: 0.0567"
     ]
    },
    {
     "name": "stderr",
     "output_type": "stream",
     "text": [
      "I0000 00:00:1720205850.942344   16265 device_compiler.h:188] Compiled cluster using XLA!  This line is logged at most once for the lifetime of the process.\n"
     ]
    },
    {
     "name": "stdout",
     "output_type": "stream",
     "text": [
      "\u001b[1m798/800\u001b[0m \u001b[32m━━━━━━━━━━━━━━━━━━━\u001b[0m\u001b[37m━\u001b[0m \u001b[1m0s\u001b[0m 4ms/step - accuracy: 0.9714 - loss: 0.0053"
     ]
    },
    {
     "name": "stderr",
     "output_type": "stream",
     "text": [
      "WARNING: All log messages before absl::InitializeLog() is called are written to STDERR\n",
      "I0000 00:00:1720205856.164336   16446 asm_compiler.cc:369] ptxas warning : Registers are spilled to local memory in function 'triton_gemm_dot_80', 60 bytes spill stores, 92 bytes spill loads\n",
      "\n",
      "I0000 00:00:1720205856.261030   16455 asm_compiler.cc:369] ptxas warning : Registers are spilled to local memory in function 'triton_gemm_dot_80', 20 bytes spill stores, 20 bytes spill loads\n",
      "\n"
     ]
    },
    {
     "name": "stdout",
     "output_type": "stream",
     "text": [
      "\u001b[1m800/800\u001b[0m \u001b[32m━━━━━━━━━━━━━━━━━━━━\u001b[0m\u001b[37m\u001b[0m \u001b[1m11s\u001b[0m 8ms/step - accuracy: 0.9714 - loss: 0.0053 - val_accuracy: 0.9806 - val_loss: 8.8598e-05\n",
      "Epoch 2/5\n",
      "\u001b[1m800/800\u001b[0m \u001b[32m━━━━━━━━━━━━━━━━━━━━\u001b[0m\u001b[37m\u001b[0m \u001b[1m4s\u001b[0m 5ms/step - accuracy: 0.9894 - loss: 5.4565e-05 - val_accuracy: 0.9863 - val_loss: 4.1772e-05\n",
      "Epoch 3/5\n",
      "\u001b[1m800/800\u001b[0m \u001b[32m━━━━━━━━━━━━━━━━━━━━\u001b[0m\u001b[37m\u001b[0m \u001b[1m4s\u001b[0m 5ms/step - accuracy: 0.9888 - loss: 5.1792e-05 - val_accuracy: 0.9828 - val_loss: 2.1784e-05\n",
      "Epoch 4/5\n",
      "\u001b[1m800/800\u001b[0m \u001b[32m━━━━━━━━━━━━━━━━━━━━\u001b[0m\u001b[37m\u001b[0m \u001b[1m4s\u001b[0m 5ms/step - accuracy: 0.9889 - loss: 3.8095e-05 - val_accuracy: 0.9825 - val_loss: 9.9874e-05\n",
      "Epoch 5/5\n",
      "\u001b[1m800/800\u001b[0m \u001b[32m━━━━━━━━━━━━━━━━━━━━\u001b[0m\u001b[37m\u001b[0m \u001b[1m4s\u001b[0m 5ms/step - accuracy: 0.9898 - loss: 3.4329e-05 - val_accuracy: 0.9953 - val_loss: 2.9359e-05\n",
      "Epoch 1/5\n",
      "\u001b[1m799/800\u001b[0m \u001b[32m━━━━━━━━━━━━━━━━━━━\u001b[0m\u001b[37m━\u001b[0m \u001b[1m0s\u001b[0m 6ms/step - accuracy: 0.2724 - loss: 1.9463"
     ]
    },
    {
     "name": "stderr",
     "output_type": "stream",
     "text": [
      "I0000 00:00:1720205933.838137   16711 asm_compiler.cc:369] ptxas warning : Registers are spilled to local memory in function 'triton_gemm_dot_90', 4 bytes spill stores, 4 bytes spill loads\n",
      "\n"
     ]
    },
    {
     "name": "stdout",
     "output_type": "stream",
     "text": [
      "\u001b[1m800/800\u001b[0m \u001b[32m━━━━━━━━━━━━━━━━━━━━\u001b[0m\u001b[37m\u001b[0m \u001b[1m11s\u001b[0m 9ms/step - accuracy: 0.2730 - loss: 1.9449 - val_accuracy: 0.8750 - val_loss: 0.4393\n",
      "Epoch 2/5\n",
      "\u001b[1m800/800\u001b[0m \u001b[32m━━━━━━━━━━━━━━━━━━━━\u001b[0m\u001b[37m\u001b[0m \u001b[1m5s\u001b[0m 6ms/step - accuracy: 0.9071 - loss: 0.3244 - val_accuracy: 0.9400 - val_loss: 0.2028\n",
      "Epoch 3/5\n",
      "\u001b[1m800/800\u001b[0m \u001b[32m━━━━━━━━━━━━━━━━━━━━\u001b[0m\u001b[37m\u001b[0m \u001b[1m5s\u001b[0m 7ms/step - accuracy: 0.9673 - loss: 0.1186 - val_accuracy: 0.9482 - val_loss: 0.1686\n",
      "Epoch 4/5\n",
      "\u001b[1m800/800\u001b[0m \u001b[32m━━━━━━━━━━━━━━━━━━━━\u001b[0m\u001b[37m\u001b[0m \u001b[1m5s\u001b[0m 7ms/step - accuracy: 0.9879 - loss: 0.0520 - val_accuracy: 0.9561 - val_loss: 0.1530\n",
      "Epoch 5/5\n",
      "\u001b[1m800/800\u001b[0m \u001b[32m━━━━━━━━━━━━━━━━━━━━\u001b[0m\u001b[37m\u001b[0m \u001b[1m5s\u001b[0m 6ms/step - accuracy: 0.9960 - loss: 0.0235 - val_accuracy: 0.9572 - val_loss: 0.1437\n"
     ]
    }
   ],
   "source": [
    "model.fit(X_train_new,y_train_new)"
   ]
  },
  {
   "cell_type": "code",
   "execution_count": 17,
   "id": "a87d5280-da09-472e-967e-d13e4b043520",
   "metadata": {},
   "outputs": [
    {
     "name": "stdout",
     "output_type": "stream",
     "text": [
      "\u001b[1m313/313\u001b[0m \u001b[32m━━━━━━━━━━━━━━━━━━━━\u001b[0m\u001b[37m\u001b[0m \u001b[1m5s\u001b[0m 4ms/step - accuracy: 0.9944 - loss: 2.8960e-05\n",
      "\u001b[1m313/313\u001b[0m \u001b[32m━━━━━━━━━━━━━━━━━━━━\u001b[0m\u001b[37m\u001b[0m \u001b[1m3s\u001b[0m 4ms/step - accuracy: 0.9503 - loss: 0.1579\n"
     ]
    }
   ],
   "source": [
    "boundary_loss,boundary_acc,label_loss,label_acc = model.evaluate(X_test_new,y_test_new)"
   ]
  },
  {
   "cell_type": "code",
   "execution_count": 18,
   "id": "2bbb6629-4d40-45a9-9e47-042e89101337",
   "metadata": {},
   "outputs": [
    {
     "data": {
      "text/plain": [
       "0.9950000047683716"
      ]
     },
     "execution_count": 18,
     "metadata": {},
     "output_type": "execute_result"
    }
   ],
   "source": [
    "boundary_acc"
   ]
  },
  {
   "cell_type": "code",
   "execution_count": 19,
   "id": "608b949d-40c4-4e1f-9026-6a10d16677c6",
   "metadata": {},
   "outputs": [
    {
     "data": {
      "text/plain": [
       "0.9595999717712402"
      ]
     },
     "execution_count": 19,
     "metadata": {},
     "output_type": "execute_result"
    }
   ],
   "source": [
    "label_acc"
   ]
  },
  {
   "cell_type": "code",
   "execution_count": 22,
   "id": "7b0722ec-17ca-4a9d-bb9a-356f4d7320de",
   "metadata": {},
   "outputs": [
    {
     "name": "stderr",
     "output_type": "stream",
     "text": [
      "2024-07-05 22:05:07.395669: E tensorflow/core/util/util.cc:131] oneDNN supports DT_HALF only on platforms with AVX-512. Falling back to the default Eigen-based implementation if present.\n"
     ]
    },
    {
     "name": "stdout",
     "output_type": "stream",
     "text": [
      "\u001b[1m313/313\u001b[0m \u001b[32m━━━━━━━━━━━━━━━━━━━━\u001b[0m\u001b[37m\u001b[0m \u001b[1m1s\u001b[0m 2ms/step\n",
      "\u001b[1m313/313\u001b[0m \u001b[32m━━━━━━━━━━━━━━━━━━━━\u001b[0m\u001b[37m\u001b[0m \u001b[1m1s\u001b[0m 2ms/step\n"
     ]
    }
   ],
   "source": [
    "predictions = model.predict(X_test_new,y_test_new)"
   ]
  },
  {
   "cell_type": "code",
   "execution_count": 23,
   "id": "6c4dfaba-4d82-4937-8dc3-7cd5d1257b00",
   "metadata": {},
   "outputs": [
    {
     "data": {
      "text/plain": [
       "array([7.        , 0.82373047, 0.85253906, 0.44213867, 0.48046875])"
      ]
     },
     "execution_count": 23,
     "metadata": {},
     "output_type": "execute_result"
    }
   ],
   "source": [
    "predictions[:,1:] = predictions[:,1:]*75.0\n",
    "y_test_new"
   ]
  },
  {
   "cell_type": "code",
   "execution_count": 32,
   "id": "ddf65b3b-17e0-44d8-af3a-3911e74c28b1",
   "metadata": {},
   "outputs": [
    {
     "data": {
      "image/png": "[encoded data removed]",
      "text/plain": [
       "<Figure size 640x480 with 1 Axes>"
      ]
     },
     "metadata": {},
     "output_type": "display_data"
    }
   ],
   "source": [
    "i = 5\n",
    "label_pred = model.predictions[i][0].astype(\"int\")\n",
    "label = y_test_new[i][0].astype(\"int\")\n",
    "y_max_pred,x_max_pred,y_min_pred,x_min_pred = (model.predictions[i][1:]*75.0).astype(\"int\")\n",
    "\n",
    "y_max,x_max,y_min,x_min = (y_test_new[i][1:]*75.0).astype(\"int\")\n",
    "\n",
    "\n",
    "plt.imshow(X_test_new[i], cmap=\"gray\")\n",
    "\n",
    "plt.plot(y_min + (y_max-y_min)/2, x_min + (x_max-x_min)/2, \"og\", markersize=10)\n",
    "plt.plot(y_min_pred + (y_max_pred-y_min_pred)/2, x_min_pred + (x_max_pred-x_min_pred)/2, \"og\", markersize=10)\n",
    "new_img = cv2.rectangle(np.reshape(np.array(X_test_new[i]), (75,75)),(y_max_pred, x_min_pred), (y_min_pred, x_max_pred), 255, 1)\n",
    "cv2.putText(new_img,text=f\"{label}\",org=(y_max, x_min),fontFace=cv2.FONT_HERSHEY_SIMPLEX,fontScale = 0.3,color = (255, 255, 0) )\n",
    "cv2.putText(new_img,text=f\"{label_pred}\",org=(y_min_pred+10, x_max_pred+10),fontFace=cv2.FONT_ITALIC,fontScale = 0.3,color = (255, 255, 0) )\n",
    "\n",
    "plt.imshow(new_img,alpha=0.4,cmap=\"Blues\")\n",
    "plt.show()\n"
   ]
  },
  {
   "cell_type": "code",
   "execution_count": null,
   "id": "e1a600db-aa4e-4ac5-988e-e444f148bafc",
   "metadata": {},
   "outputs": [],
   "source": []
  }
 ],
 "metadata": {
  "kernelspec": {
   "display_name": "Python 3 (ipykernel)",
   "language": "python",
   "name": "python3"
  },
  "language_info": {
   "codemirror_mode": {
    "name": "ipython",
    "version": 3
   },
   "file_extension": ".py",
   "mimetype": "text/x-python",
   "name": "python",
   "nbconvert_exporter": "python",
   "pygments_lexer": "ipython3",
   "version": "3.12.4"
  }
 },
 "nbformat": 4,
 "nbformat_minor": 5
}
